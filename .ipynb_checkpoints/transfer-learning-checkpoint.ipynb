{
 "cells": [
  {
   "cell_type": "code",
   "execution_count": 1,
   "id": "090190b8",
   "metadata": {},
   "outputs": [],
   "source": [
    "import matplotlib.pyplot as plt\n",
    "import numpy as np\n",
    "import os\n",
    "import PIL\n",
    "import tensorflow as tf\n",
    "\n",
    "from tensorflow import keras\n",
    "from tensorflow.keras import layers\n",
    "from tensorflow.keras.models import Sequential\n",
    "import pathlib\n",
    "import pandas as pd\n",
    "from PIL import Image \n",
    "from PIL.ImageDraw import Draw"
   ]
  },
  {
   "cell_type": "code",
   "execution_count": 2,
   "id": "39ffee52",
   "metadata": {},
   "outputs": [],
   "source": [
    "width = 216\n",
    "height = 216\n",
    "num_classes = 2"
   ]
  },
  {
   "cell_type": "code",
   "execution_count": 3,
   "id": "8ed84d5b",
   "metadata": {},
   "outputs": [],
   "source": [
    "base_model = tf.keras.models.load_model('./Saved-Models/Locator')"
   ]
  },
  {
   "cell_type": "code",
   "execution_count": 4,
   "id": "e6f5dc2f",
   "metadata": {},
   "outputs": [
    {
     "name": "stdout",
     "output_type": "stream",
     "text": [
      "Model: \"model\"\n",
      "__________________________________________________________________________________________________\n",
      "Layer (type)                    Output Shape         Param #     Connected to                     \n",
      "==================================================================================================\n",
      "input_1 (InputLayer)            [(None, 216, 216, 3) 0                                            \n",
      "__________________________________________________________________________________________________\n",
      "bl_1 (Rescaling)                (None, 216, 216, 3)  0           input_1[0][0]                    \n",
      "__________________________________________________________________________________________________\n",
      "bl_2 (Conv2D)                   (None, 216, 216, 16) 448         bl_1[0][0]                       \n",
      "__________________________________________________________________________________________________\n",
      "bl_3 (MaxPooling2D)             (None, 108, 108, 16) 0           bl_2[0][0]                       \n",
      "__________________________________________________________________________________________________\n",
      "bl_4 (Conv2D)                   (None, 108, 108, 32) 4640        bl_3[0][0]                       \n",
      "__________________________________________________________________________________________________\n",
      "bl_5 (MaxPooling2D)             (None, 54, 54, 32)   0           bl_4[0][0]                       \n",
      "__________________________________________________________________________________________________\n",
      "bl_6 (Conv2D)                   (None, 54, 54, 64)   18496       bl_5[0][0]                       \n",
      "__________________________________________________________________________________________________\n",
      "bl_7 (MaxPooling2D)             (None, 27, 27, 64)   0           bl_6[0][0]                       \n",
      "__________________________________________________________________________________________________\n",
      "bl_8 (Flatten)                  (None, 46656)        0           bl_7[0][0]                       \n",
      "__________________________________________________________________________________________________\n",
      "bb_1 (Dense)                    (None, 128)          5972096     bl_8[0][0]                       \n",
      "__________________________________________________________________________________________________\n",
      "bb_2 (Dense)                    (None, 64)           8256        bb_1[0][0]                       \n",
      "__________________________________________________________________________________________________\n",
      "cl_1 (Dense)                    (None, 128)          5972096     bl_8[0][0]                       \n",
      "__________________________________________________________________________________________________\n",
      "bb_3 (Dense)                    (None, 32)           2080        bb_2[0][0]                       \n",
      "__________________________________________________________________________________________________\n",
      "classifier_head (Dense)         (None, 2)            258         cl_1[0][0]                       \n",
      "__________________________________________________________________________________________________\n",
      "bbox_head (Dense)               (None, 4)            132         bb_3[0][0]                       \n",
      "==================================================================================================\n",
      "Total params: 11,978,502\n",
      "Trainable params: 11,978,502\n",
      "Non-trainable params: 0\n",
      "__________________________________________________________________________________________________\n"
     ]
    }
   ],
   "source": [
    "base_model.summary()"
   ]
  },
  {
   "cell_type": "code",
   "execution_count": 11,
   "id": "64a8f60c",
   "metadata": {},
   "outputs": [
    {
     "name": "stdout",
     "output_type": "stream",
     "text": [
      "bl_1\n",
      "bl_2\n",
      "bl_3\n",
      "bl_4\n",
      "bl_5\n",
      "bl_6\n",
      "bl_7\n",
      "bb_1\n",
      "bb_2\n",
      "bb_3\n",
      "bbox_head\n"
     ]
    }
   ],
   "source": [
    "for layer in base_model.layers:\n",
    "    if layer.name.startswith('bl') and layer.name != 'bl_8':\n",
    "        print(layer.name)\n",
    "        layer.trainable = False\n",
    "        \n",
    "for layer in base_model.layers:\n",
    "    if layer.name.startswith('bb'):\n",
    "        print(layer.name)\n",
    "        layer.trainable = False"
   ]
  },
  {
   "cell_type": "code",
   "execution_count": 12,
   "id": "20079195",
   "metadata": {},
   "outputs": [
    {
     "name": "stdout",
     "output_type": "stream",
     "text": [
      "Model: \"model\"\n",
      "__________________________________________________________________________________________________\n",
      "Layer (type)                    Output Shape         Param #     Connected to                     \n",
      "==================================================================================================\n",
      "input_1 (InputLayer)            [(None, 216, 216, 3) 0                                            \n",
      "__________________________________________________________________________________________________\n",
      "bl_1 (Rescaling)                (None, 216, 216, 3)  0           input_1[0][0]                    \n",
      "__________________________________________________________________________________________________\n",
      "bl_2 (Conv2D)                   (None, 216, 216, 16) 448         bl_1[0][0]                       \n",
      "__________________________________________________________________________________________________\n",
      "bl_3 (MaxPooling2D)             (None, 108, 108, 16) 0           bl_2[0][0]                       \n",
      "__________________________________________________________________________________________________\n",
      "bl_4 (Conv2D)                   (None, 108, 108, 32) 4640        bl_3[0][0]                       \n",
      "__________________________________________________________________________________________________\n",
      "bl_5 (MaxPooling2D)             (None, 54, 54, 32)   0           bl_4[0][0]                       \n",
      "__________________________________________________________________________________________________\n",
      "bl_6 (Conv2D)                   (None, 54, 54, 64)   18496       bl_5[0][0]                       \n",
      "__________________________________________________________________________________________________\n",
      "bl_7 (MaxPooling2D)             (None, 27, 27, 64)   0           bl_6[0][0]                       \n",
      "__________________________________________________________________________________________________\n",
      "bl_8 (Flatten)                  (None, 46656)        0           bl_7[0][0]                       \n",
      "__________________________________________________________________________________________________\n",
      "bb_1 (Dense)                    (None, 128)          5972096     bl_8[0][0]                       \n",
      "__________________________________________________________________________________________________\n",
      "bb_2 (Dense)                    (None, 64)           8256        bb_1[0][0]                       \n",
      "__________________________________________________________________________________________________\n",
      "cl_1 (Dense)                    (None, 128)          5972096     bl_8[0][0]                       \n",
      "__________________________________________________________________________________________________\n",
      "bb_3 (Dense)                    (None, 32)           2080        bb_2[0][0]                       \n",
      "__________________________________________________________________________________________________\n",
      "classifier_head (Dense)         (None, 2)            258         cl_1[0][0]                       \n",
      "__________________________________________________________________________________________________\n",
      "bbox_head (Dense)               (None, 4)            132         bb_3[0][0]                       \n",
      "==================================================================================================\n",
      "Total params: 11,978,502\n",
      "Trainable params: 5,972,354\n",
      "Non-trainable params: 6,006,148\n",
      "__________________________________________________________________________________________________\n"
     ]
    }
   ],
   "source": [
    "base_model.summary()"
   ]
  },
  {
   "cell_type": "code",
   "execution_count": 13,
   "id": "7883fd6f",
   "metadata": {},
   "outputs": [],
   "source": [
    "losses = {\"classifier_head\":tf.keras.losses.SparseCategoricalCrossentropy(from_logits=True), \"bbox_head\":tf.keras.losses.MSE}\n",
    "\n",
    "loss_weights = {\"classifier_head\":1.0, \"bbox_head\":1.0}"
   ]
  },
  {
   "cell_type": "code",
   "execution_count": 15,
   "id": "50053397",
   "metadata": {},
   "outputs": [],
   "source": [
    "classes = [\"Circle\", \"No-Circle\"]\n",
    "\n",
    "base_model.compile(loss=losses, optimizer='Adam', metrics=['accuracy'])"
   ]
  },
  {
   "cell_type": "code",
   "execution_count": 16,
   "id": "a5010734",
   "metadata": {},
   "outputs": [],
   "source": [
    "TRAINING_CSV_FILE = 'Data/training_data.csv'\n",
    "TESTING_CSV_FILE = 'Data/testing_data.csv'\n",
    "TRAINING_IMAGE_DIR = 'Images/Training'\n",
    "TESTING_IMAGE_DIR = 'Images/Testing'\n",
    "\n",
    "training_image_records = pd.read_csv(TRAINING_CSV_FILE)\n",
    "testing_image_records = pd.read_csv(TESTING_CSV_FILE)\n",
    "\n",
    "train_image_path = os.path.join(os.getcwd(), TRAINING_IMAGE_DIR)\n",
    "test_image_path = os.path.join(os.getcwd(), TESTING_IMAGE_DIR)\n",
    "\n",
    "train_images = []\n",
    "train_targets = []\n",
    "train_labels = []\n",
    "\n",
    "for index, row in training_image_records.iterrows():\n",
    "    \n",
    "    (filename, width, height, class_name, xmin, ymin, xmax, ymax) = row\n",
    "    \n",
    "    train_image_fullpath = os.path.join(train_image_path, filename)\n",
    "    train_img = keras.preprocessing.image.load_img(train_image_fullpath, target_size=(height, width))\n",
    "    train_img_arr = keras.preprocessing.image.img_to_array(train_img)\n",
    "    \n",
    "    \n",
    "    xmin = round(xmin/ width, 2)\n",
    "    ymin = round(ymin/ height, 2)\n",
    "    xmax = round(xmax/ width, 2)\n",
    "    ymax = round(ymax/ height, 2)\n",
    "    \n",
    "    train_images.append(train_img_arr)\n",
    "    train_targets.append((xmin, ymin, xmax, ymax))\n",
    "    train_labels.append(classes.index(class_name))\n",
    "    \n",
    "    \n",
    "    \n",
    "test_images = []\n",
    "test_targets = []\n",
    "test_labels = []\n",
    "\n",
    "for index, row in testing_image_records.iterrows():\n",
    "    \n",
    "    (filename, width, height, class_name, xmin, ymin, xmax, ymax) = row\n",
    "    \n",
    "    test_image_fullpath = os.path.join(test_image_path, filename)\n",
    "    test_img = keras.preprocessing.image.load_img(test_image_fullpath, target_size=(height, width))\n",
    "    test_img_arr = keras.preprocessing.image.img_to_array(test_img)\n",
    "    #img_arr = img_arr/255.0\n",
    "    \n",
    "    xmin = round(xmin/ width, 2)\n",
    "    ymin = round(ymin/ height, 2)\n",
    "    xmax = round(xmax/ width, 2)\n",
    "    ymax = round(ymax/ height, 2)\n",
    "    \n",
    "    test_images.append(test_img_arr)\n",
    "    test_targets.append((xmin, ymin, xmax, ymax))\n",
    "    test_labels.append(classes.index(class_name))"
   ]
  },
  {
   "cell_type": "code",
   "execution_count": 17,
   "id": "79c55ca7",
   "metadata": {},
   "outputs": [
    {
     "name": "stdout",
     "output_type": "stream",
     "text": [
      "166\n"
     ]
    }
   ],
   "source": [
    "print(len(train_images))"
   ]
  },
  {
   "cell_type": "code",
   "execution_count": 18,
   "id": "46dd7a91",
   "metadata": {},
   "outputs": [],
   "source": [
    "training_epochs = 20\n",
    "\n",
    "train_images = np.array(train_images)\n",
    "train_targets = np.array(train_targets)\n",
    "train_labels = np.array(train_labels)\n",
    "\n",
    "test_images = np.array(test_images)\n",
    "test_targets = np.array(test_targets)\n",
    "test_labels = np.array(test_labels)"
   ]
  },
  {
   "cell_type": "code",
   "execution_count": 19,
   "id": "e7574317",
   "metadata": {},
   "outputs": [],
   "source": [
    "trainTargets = {\n",
    "    \"classifier_head\": train_labels,\n",
    "    \"bbox_head\": train_targets\n",
    "}\n",
    "\n",
    "testTargets = {\n",
    "    \"classifier_head\": test_labels,\n",
    "    \"bbox_head\": test_targets\n",
    "}"
   ]
  },
  {
   "cell_type": "code",
   "execution_count": 20,
   "id": "e4b3e086",
   "metadata": {},
   "outputs": [
    {
     "name": "stdout",
     "output_type": "stream",
     "text": [
      "Epoch 1/20\n",
      "42/42 [==============================] - 19s 442ms/step - loss: 1.4550 - classifier_head_loss: 1.3640 - bbox_head_loss: 0.0910 - classifier_head_accuracy: 0.6325 - bbox_head_accuracy: 0.6566 - val_loss: 0.6651 - val_classifier_head_loss: 0.5660 - val_bbox_head_loss: 0.0991 - val_classifier_head_accuracy: 0.6364 - val_bbox_head_accuracy: 0.6364\n",
      "Epoch 2/20\n",
      "42/42 [==============================] - 18s 435ms/step - loss: 0.5723 - classifier_head_loss: 0.4813 - bbox_head_loss: 0.0910 - classifier_head_accuracy: 0.7289 - bbox_head_accuracy: 0.6566 - val_loss: 0.5745 - val_classifier_head_loss: 0.4754 - val_bbox_head_loss: 0.0991 - val_classifier_head_accuracy: 0.8636 - val_bbox_head_accuracy: 0.6364\n",
      "Epoch 3/20\n",
      "42/42 [==============================] - 18s 435ms/step - loss: 0.4918 - classifier_head_loss: 0.4008 - bbox_head_loss: 0.0910 - classifier_head_accuracy: 0.8735 - bbox_head_accuracy: 0.6566 - val_loss: 0.5007 - val_classifier_head_loss: 0.4016 - val_bbox_head_loss: 0.0991 - val_classifier_head_accuracy: 0.9091 - val_bbox_head_accuracy: 0.6364\n",
      "Epoch 4/20\n",
      "42/42 [==============================] - 18s 436ms/step - loss: 0.4122 - classifier_head_loss: 0.3213 - bbox_head_loss: 0.0910 - classifier_head_accuracy: 0.9157 - bbox_head_accuracy: 0.6566 - val_loss: 0.4833 - val_classifier_head_loss: 0.3842 - val_bbox_head_loss: 0.0991 - val_classifier_head_accuracy: 0.8636 - val_bbox_head_accuracy: 0.6364\n",
      "Epoch 5/20\n",
      "42/42 [==============================] - 18s 436ms/step - loss: 0.3632 - classifier_head_loss: 0.2722 - bbox_head_loss: 0.0910 - classifier_head_accuracy: 0.8855 - bbox_head_accuracy: 0.6566 - val_loss: 0.3975 - val_classifier_head_loss: 0.2984 - val_bbox_head_loss: 0.0991 - val_classifier_head_accuracy: 0.9091 - val_bbox_head_accuracy: 0.6364\n",
      "Epoch 6/20\n",
      "42/42 [==============================] - 18s 435ms/step - loss: 0.3098 - classifier_head_loss: 0.2188 - bbox_head_loss: 0.0910 - classifier_head_accuracy: 0.9157 - bbox_head_accuracy: 0.6566 - val_loss: 0.4083 - val_classifier_head_loss: 0.3092 - val_bbox_head_loss: 0.0991 - val_classifier_head_accuracy: 0.9091 - val_bbox_head_accuracy: 0.6364\n",
      "Epoch 7/20\n",
      "42/42 [==============================] - 18s 435ms/step - loss: 0.2781 - classifier_head_loss: 0.1872 - bbox_head_loss: 0.0910 - classifier_head_accuracy: 0.9398 - bbox_head_accuracy: 0.6566 - val_loss: 0.3519 - val_classifier_head_loss: 0.2528 - val_bbox_head_loss: 0.0991 - val_classifier_head_accuracy: 0.9091 - val_bbox_head_accuracy: 0.6364\n",
      "Epoch 8/20\n",
      "42/42 [==============================] - 18s 436ms/step - loss: 0.2471 - classifier_head_loss: 0.1561 - bbox_head_loss: 0.0910 - classifier_head_accuracy: 0.9458 - bbox_head_accuracy: 0.6566 - val_loss: 0.3254 - val_classifier_head_loss: 0.2263 - val_bbox_head_loss: 0.0991 - val_classifier_head_accuracy: 0.9091 - val_bbox_head_accuracy: 0.6364\n",
      "Epoch 9/20\n",
      "42/42 [==============================] - 18s 435ms/step - loss: 0.2165 - classifier_head_loss: 0.1255 - bbox_head_loss: 0.0910 - classifier_head_accuracy: 0.9699 - bbox_head_accuracy: 0.6566 - val_loss: 0.2892 - val_classifier_head_loss: 0.1901 - val_bbox_head_loss: 0.0991 - val_classifier_head_accuracy: 0.9091 - val_bbox_head_accuracy: 0.6364\n",
      "Epoch 10/20\n",
      "42/42 [==============================] - 18s 436ms/step - loss: 0.2011 - classifier_head_loss: 0.1101 - bbox_head_loss: 0.0910 - classifier_head_accuracy: 0.9759 - bbox_head_accuracy: 0.6566 - val_loss: 0.2490 - val_classifier_head_loss: 0.1499 - val_bbox_head_loss: 0.0991 - val_classifier_head_accuracy: 0.9091 - val_bbox_head_accuracy: 0.6364\n",
      "Epoch 11/20\n",
      "42/42 [==============================] - 18s 435ms/step - loss: 0.1851 - classifier_head_loss: 0.0941 - bbox_head_loss: 0.0910 - classifier_head_accuracy: 0.9819 - bbox_head_accuracy: 0.6566 - val_loss: 0.3231 - val_classifier_head_loss: 0.2240 - val_bbox_head_loss: 0.0991 - val_classifier_head_accuracy: 0.8636 - val_bbox_head_accuracy: 0.6364\n",
      "Epoch 12/20\n",
      "42/42 [==============================] - 18s 435ms/step - loss: 0.1825 - classifier_head_loss: 0.0915 - bbox_head_loss: 0.0910 - classifier_head_accuracy: 0.9759 - bbox_head_accuracy: 0.6566 - val_loss: 0.2814 - val_classifier_head_loss: 0.1823 - val_bbox_head_loss: 0.0991 - val_classifier_head_accuracy: 0.9091 - val_bbox_head_accuracy: 0.6364\n",
      "Epoch 13/20\n",
      "42/42 [==============================] - 18s 436ms/step - loss: 0.1707 - classifier_head_loss: 0.0797 - bbox_head_loss: 0.0910 - classifier_head_accuracy: 0.9759 - bbox_head_accuracy: 0.6566 - val_loss: 0.2332 - val_classifier_head_loss: 0.1341 - val_bbox_head_loss: 0.0991 - val_classifier_head_accuracy: 0.9091 - val_bbox_head_accuracy: 0.6364\n",
      "Epoch 14/20\n",
      "42/42 [==============================] - 18s 435ms/step - loss: 0.1566 - classifier_head_loss: 0.0656 - bbox_head_loss: 0.0910 - classifier_head_accuracy: 0.9880 - bbox_head_accuracy: 0.6566 - val_loss: 0.2189 - val_classifier_head_loss: 0.1198 - val_bbox_head_loss: 0.0991 - val_classifier_head_accuracy: 0.9091 - val_bbox_head_accuracy: 0.6364\n",
      "Epoch 15/20\n",
      "42/42 [==============================] - 18s 436ms/step - loss: 0.1513 - classifier_head_loss: 0.0603 - bbox_head_loss: 0.0910 - classifier_head_accuracy: 0.9880 - bbox_head_accuracy: 0.6566 - val_loss: 0.2585 - val_classifier_head_loss: 0.1594 - val_bbox_head_loss: 0.0991 - val_classifier_head_accuracy: 0.9091 - val_bbox_head_accuracy: 0.6364\n",
      "Epoch 16/20\n",
      "42/42 [==============================] - 18s 435ms/step - loss: 0.1483 - classifier_head_loss: 0.0573 - bbox_head_loss: 0.0910 - classifier_head_accuracy: 0.9940 - bbox_head_accuracy: 0.6566 - val_loss: 0.2126 - val_classifier_head_loss: 0.1135 - val_bbox_head_loss: 0.0991 - val_classifier_head_accuracy: 0.9091 - val_bbox_head_accuracy: 0.6364\n",
      "Epoch 17/20\n",
      "42/42 [==============================] - 18s 435ms/step - loss: 0.1417 - classifier_head_loss: 0.0507 - bbox_head_loss: 0.0910 - classifier_head_accuracy: 0.9880 - bbox_head_accuracy: 0.6566 - val_loss: 0.2153 - val_classifier_head_loss: 0.1162 - val_bbox_head_loss: 0.0991 - val_classifier_head_accuracy: 0.9091 - val_bbox_head_accuracy: 0.6364\n",
      "Epoch 18/20\n",
      "42/42 [==============================] - 18s 436ms/step - loss: 0.1388 - classifier_head_loss: 0.0478 - bbox_head_loss: 0.0910 - classifier_head_accuracy: 1.0000 - bbox_head_accuracy: 0.6566 - val_loss: 0.2319 - val_classifier_head_loss: 0.1328 - val_bbox_head_loss: 0.0991 - val_classifier_head_accuracy: 0.9091 - val_bbox_head_accuracy: 0.6364\n",
      "Epoch 19/20\n",
      "42/42 [==============================] - 18s 436ms/step - loss: 0.1346 - classifier_head_loss: 0.0437 - bbox_head_loss: 0.0910 - classifier_head_accuracy: 0.9940 - bbox_head_accuracy: 0.6566 - val_loss: 0.2342 - val_classifier_head_loss: 0.1351 - val_bbox_head_loss: 0.0991 - val_classifier_head_accuracy: 0.9091 - val_bbox_head_accuracy: 0.6364\n",
      "Epoch 20/20\n",
      "42/42 [==============================] - 18s 436ms/step - loss: 0.1326 - classifier_head_loss: 0.0416 - bbox_head_loss: 0.0910 - classifier_head_accuracy: 1.0000 - bbox_head_accuracy: 0.6566 - val_loss: 0.2329 - val_classifier_head_loss: 0.1338 - val_bbox_head_loss: 0.0991 - val_classifier_head_accuracy: 0.9091 - val_bbox_head_accuracy: 0.6364\n"
     ]
    }
   ],
   "source": [
    "history = base_model.fit(train_images, trainTargets,\n",
    "                   validation_data=(test_images, testTargets),\n",
    "                   batch_size=4,\n",
    "                   epochs=training_epochs,\n",
    "                   shuffle=True,\n",
    "                   verbose=1)"
   ]
  },
  {
   "cell_type": "code",
   "execution_count": 36,
   "id": "58569dad",
   "metadata": {},
   "outputs": [],
   "source": [
    "test_img = 'Test/20210620_155720.jpg'\n",
    "\n",
    "img = keras.preprocessing.image.load_img(test_img, target_size=(height, width))\n",
    "\n",
    "img = keras.preprocessing.image.img_to_array(img)\n",
    "img = tf.expand_dims(img, 0)\n",
    "predictions = base_model.predict(img)"
   ]
  },
  {
   "cell_type": "code",
   "execution_count": 37,
   "id": "70d3dc16",
   "metadata": {},
   "outputs": [
    {
     "name": "stdout",
     "output_type": "stream",
     "text": [
      "[0.38389733 0.4035622  0.62113863 0.5939578 ]\n"
     ]
    }
   ],
   "source": [
    "print(predictions[1][0])"
   ]
  },
  {
   "cell_type": "code",
   "execution_count": 38,
   "id": "93bd8a57",
   "metadata": {},
   "outputs": [
    {
     "name": "stdout",
     "output_type": "stream",
     "text": [
      "[82.92182421684265, 87.16943264007568, 134.16594457626343, 128.2948808670044]\n",
      "tf.Tensor([0.01170424 0.98829573], shape=(2,), dtype=float32)\n",
      "Predicted class: No-Circle\n"
     ]
    }
   ],
   "source": [
    "bbox = predictions[1][0]\n",
    "bbox = [bbox[0] * width, bbox[1] * height, bbox[2] * width, bbox[3] * height]\n",
    "print(bbox)\n",
    "\n",
    "class_prediction_value = predictions[0][0]\n",
    "score = tf.nn.softmax(class_prediction_value)\n",
    "\n",
    "print(score)\n",
    "score = tf.math.argmax(score)\n",
    "print(\"Predicted class: {}\".format(classes[score]))"
   ]
  },
  {
   "cell_type": "code",
   "execution_count": 39,
   "id": "b1f440cc",
   "metadata": {},
   "outputs": [
    {
     "data": {
      "image/png": "[encoded data removed]",
      "text/plain": [
       "<PIL.Image.Image image mode=RGB size=216x216 at 0x105C09340>"
      ]
     },
     "execution_count": 39,
     "metadata": {},
     "output_type": "execute_result"
    }
   ],
   "source": [
    "testimg = keras.preprocessing.image.load_img(test_img, target_size=(height, width))\n",
    "draw1 = Draw(testimg)\n",
    "draw1.rectangle(bbox, outline='red')\n",
    "testimg"
   ]
  },
  {
   "cell_type": "code",
   "execution_count": 27,
   "id": "8940e722",
   "metadata": {},
   "outputs": [
    {
     "name": "stdout",
     "output_type": "stream",
     "text": [
      "INFO:tensorflow:Assets written to: ./Saved-Models/Detector/assets\n"
     ]
    }
   ],
   "source": [
    "base_model.save('./Saved-Models/Detector')"
   ]
  },
  {
   "cell_type": "code",
   "execution_count": null,
   "id": "d58c36f3",
   "metadata": {},
   "outputs": [],
   "source": []
  }
 ],
 "metadata": {
  "kernelspec": {
   "display_name": "Python 3",
   "language": "python",
   "name": "python3"
  },
  "language_info": {
   "codemirror_mode": {
    "name": "ipython",
    "version": 3
   },
   "file_extension": ".py",
   "mimetype": "text/x-python",
   "name": "python",
   "nbconvert_exporter": "python",
   "pygments_lexer": "ipython3",
   "version": "3.9.4"
  }
 },
 "nbformat": 4,
 "nbformat_minor": 5
}
